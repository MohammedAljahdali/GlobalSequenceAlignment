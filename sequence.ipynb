{
 "cells": [
  {
   "cell_type": "markdown",
   "id": "bec86631-f1be-4806-8d76-4e0d735822cf",
   "metadata": {},
   "source": [
    "# Imports"
   ]
  },
  {
   "cell_type": "code",
   "execution_count": 1,
   "id": "55f50811-1e9e-4c93-b314-980a0cc8f46d",
   "metadata": {},
   "outputs": [],
   "source": [
    "import numpy as np"
   ]
  },
  {
   "cell_type": "markdown",
   "id": "e8eaa40d-41cf-46f3-969d-de570f0dc3db",
   "metadata": {},
   "source": [
    "# First Algo"
   ]
  },
  {
   "cell_type": "code",
   "execution_count": 37,
   "id": "88dc1955-b522-4865-bcda-8f8a2f02f9c1",
   "metadata": {},
   "outputs": [],
   "source": []
  },
  {
   "cell_type": "code",
   "execution_count": 39,
   "id": "3fc6e44c-6557-4196-819d-c0446a7d965f",
   "metadata": {},
   "outputs": [],
   "source": [
    "def update(grid, i, j, gap, match, mismatch):\n",
    "    left = grid[i, j - 1] + gap\n",
    "    up = grid[i - 1, j] + gap\n",
    "    ismatch = seq1[i-1] == seq2[j-1]\n",
    "    dig = grid[i - 1, j - 1] + match if ismatch else grid[i - 1, j - 1] + mismatch\n",
    "    grid[i, j] = max(left, up, dig)"
   ]
  },
  {
   "cell_type": "code",
   "execution_count": 40,
   "id": "68442ce3-110c-4402-8f32-ef2e0dd2ef5a",
   "metadata": {},
   "outputs": [],
   "source": [
    "def init(grid, i, j, gaph):\n",
    "    if i == 0 and j == 0:\n",
    "        grid[i, j] = 0\n",
    "    elif i == 0:\n",
    "        grid[i, j] = grid[i, j-1] + gap\n",
    "    elif j == 0:\n",
    "        grid[i, j] = grid[i-1, j] + gap\n",
    "    else:\n",
    "        raise(\"error\")"
   ]
  },
  {
   "cell_type": "code",
   "execution_count": 124,
   "id": "765fdbba-13ba-4661-8d16-b0e3274c0697",
   "metadata": {},
   "outputs": [],
   "source": [
    "def execute(seq1, seq2, gap=-2, match=1, mismatch=-1, debug=False):\n",
    "    grid = np.zeros(\n",
    "        (len(seq1)+1, len(seq2)+1)\n",
    "    )\n",
    "    if debug:\n",
    "        print(grid)\n",
    "        print(grid.shape)\n",
    "    for i in range(grid.shape[0]):\n",
    "        for j in range(grid.shape[1]):\n",
    "            if i == 0 or j == 0:\n",
    "                init(grid, i, j, gap)\n",
    "            else:\n",
    "                update(grid, i, j,  gap, match, mismatch)\n",
    "    if debug:\n",
    "        print(grid)\n",
    "        print(i, j)\n",
    "    result1 = \"\"\n",
    "    result2 = \"\"\n",
    "    while i > 0 and j > 0:\n",
    "        ismatch = seq1[i-1] == seq2[j-1]\n",
    "        if ismatch:\n",
    "            i -= 1\n",
    "            j -= 1\n",
    "            result1 += seq1[i]\n",
    "            result2 += seq2[j]\n",
    "            if debug:\n",
    "                print(result1[::-1])\n",
    "                print(result2[::-1])\n",
    "        else:\n",
    "            left = grid[i, j - 1]\n",
    "            up = grid[i - 1, j]\n",
    "            dig = grid[i - 1, j - 1]\n",
    "            values = [left, up, dig]\n",
    "            max_value = max(values)\n",
    "            for idx, value in enumerate(values):\n",
    "                if value == max_value:\n",
    "                    if idx == 0:\n",
    "                        j -= 1\n",
    "                        result1 += \"-\"\n",
    "                        result2 += seq2[j]\n",
    "                        if debug:\n",
    "                            print(result1[::-1])\n",
    "                            print(result2[::-1])\n",
    "                    elif idx ==1:\n",
    "                        i -= 1\n",
    "                        result1 += seq1[i]\n",
    "                        result2 += \"-\"\n",
    "                        if debug:\n",
    "                            print(result1[::-1])\n",
    "                            print(result2[::-1])\n",
    "                    else:\n",
    "                        i -= 1\n",
    "                        j -= 1\n",
    "                        result1 += seq1[i]\n",
    "                        result2 += seq2[j]\n",
    "                        if debug:\n",
    "                            print(result1[::-1])\n",
    "                            print(result2[::-1])\n",
    "    if i == 1:\n",
    "        i -= 1\n",
    "        result1 += seq1[i]\n",
    "        result2 += \"-\"\n",
    "    elif j == 1:\n",
    "        j -= 1\n",
    "        result1 += \"-\"\n",
    "        result2 += seq2[j]\n",
    "    if debug:\n",
    "        print(i, j, grid[i,j])\n",
    "        print(result1[::-1])\n",
    "        print(result2[::-1])\n",
    "    return result1[::-1], result2[::-1]           "
   ]
  },
  {
   "cell_type": "code",
   "execution_count": 125,
   "id": "4211d8a1-21cc-49a6-abc5-173e2f1af0ab",
   "metadata": {},
   "outputs": [],
   "source": [
    "seq1 = \"Mohammed\"\n",
    "seq2 = \"hamed\""
   ]
  },
  {
   "cell_type": "code",
   "execution_count": 126,
   "id": "a1531203-6b14-4af5-adb0-5c448cddbe1f",
   "metadata": {},
   "outputs": [],
   "source": [
    "seq2 = \"ATGCT\"\n",
    "seq1 = \"AGCT\""
   ]
  },
  {
   "cell_type": "code",
   "execution_count": 127,
   "id": "6d847541-7402-4e15-b165-5b526cd27bba",
   "metadata": {},
   "outputs": [],
   "source": [
    "seq2 = \"DISTANCE\"\n",
    "seq1 = \"EDIT\""
   ]
  },
  {
   "cell_type": "code",
   "execution_count": 130,
   "id": "3702327e-d047-43a8-96a3-e7c1d9fbea3c",
   "metadata": {},
   "outputs": [
    {
     "data": {
      "text/plain": [
       "('EDI-T----', '-DISTANCE')"
      ]
     },
     "execution_count": 130,
     "metadata": {},
     "output_type": "execute_result"
    }
   ],
   "source": [
    "execute(seq1, seq2, debug=False)"
   ]
  },
  {
   "cell_type": "code",
   "execution_count": 113,
   "id": "d204aef0-8f79-4745-b03b-93a6f3bb2656",
   "metadata": {},
   "outputs": [
    {
     "data": {
      "text/plain": [
       "array([[  0.,  -2.,  -4.,  -6.,  -8., -10.],\n",
       "       [ -2.,   1.,  -1.,  -3.,  -5.,  -7.],\n",
       "       [ -4.,  -1.,   0.,   0.,  -2.,  -4.],\n",
       "       [ -6.,  -3.,  -2.,  -1.,   1.,  -1.],\n",
       "       [ -8.,  -5.,  -2.,  -3.,  -1.,   2.]])"
      ]
     },
     "execution_count": 113,
     "metadata": {},
     "output_type": "execute_result"
    }
   ],
   "source": []
  },
  {
   "cell_type": "code",
   "execution_count": null,
   "id": "b3dcb840-8098-442c-88bb-d9fd13a840af",
   "metadata": {},
   "outputs": [],
   "source": []
  }
 ],
 "metadata": {
  "kernelspec": {
   "display_name": "Python 3",
   "language": "python",
   "name": "python3"
  },
  "language_info": {
   "codemirror_mode": {
    "name": "ipython",
    "version": 3
   },
   "file_extension": ".py",
   "mimetype": "text/x-python",
   "name": "python",
   "nbconvert_exporter": "python",
   "pygments_lexer": "ipython3",
   "version": "3.6.13"
  }
 },
 "nbformat": 4,
 "nbformat_minor": 5
}
